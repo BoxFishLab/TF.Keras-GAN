{
 "cells": [
  {
   "cell_type": "markdown",
   "metadata": {},
   "source": [
    "##### A.1·[初级] 利用生成对抗网络生成手写数字 \n",
    "\n"
   ]
  },
  {
   "cell_type": "markdown",
   "metadata": {},
   "source": [
    "> IDE：\n",
    "   text edit: subtext: 3.3.1\n",
    "\tpython: 3.6.7\n",
    "\ttensorflow-gpu: 1.3.0\n",
    "\tnumpy: 1.16.2\n",
    "\tmatploylib: 3.0.3\n",
    "\tscipy: 1.2.1\n",
    "\tpillow: 5.4.1\n",
    "\tcuda: 8.0\n",
    "\tcudnn: 6.0\n",
    "\tc++ redis: 2017\n",
    "> GPU infomation:\n",
    "\tname: GeForce GTX 1080 Ti\n",
    "\tmajor: 6 minor: 1 memoryClockRate (GHz) 1.6325\n",
    "\tpciBusID 0000:01:00.0\n",
    "\tTotal memory: 11.00GiB\n",
    "\tFree memory: 9.09GiB\n",
    "> CPU infomation:\n",
    "\t处理器: intel(R) Core(TM) i5\n",
    "\t内存: 8G\n",
    "\n",
    "##### 项目程序说明\n",
    "\n",
    "\n",
    "\n",
    "##### Q.A 坑\n",
    "\n"
   ]
  }
 ],
 "metadata": {
  "kernelspec": {
   "display_name": "Python 3",
   "language": "python",
   "name": "python3"
  },
  "language_info": {
   "codemirror_mode": {
    "name": "ipython",
    "version": 3
   },
   "file_extension": ".py",
   "mimetype": "text/x-python",
   "name": "python",
   "nbconvert_exporter": "python",
   "pygments_lexer": "ipython3",
   "version": "3.6.3"
  }
 },
 "nbformat": 4,
 "nbformat_minor": 2
}
